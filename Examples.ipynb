{
 "cells": [
  {
   "cell_type": "code",
   "execution_count": 1,
   "metadata": {},
   "outputs": [
    {
     "name": "stdout",
     "output_type": "stream",
     "text": [
      "TF version:  2.1.0\n"
     ]
    }
   ],
   "source": [
    "import tensorflow\n",
    "from tensorflow import keras\n",
    "import os\n",
    "import numpy as np\n",
    "\n",
    "print('TF version: ', tensorflow.__version__)"
   ]
  },
  {
   "cell_type": "code",
   "execution_count": 2,
   "metadata": {},
   "outputs": [],
   "source": [
    "#load model\n",
    "model = keras.models.load_model('./Model-Seq-softmax.h5', compile=True)"
   ]
  },
  {
   "cell_type": "code",
   "execution_count": 3,
   "metadata": {},
   "outputs": [],
   "source": [
    "def preds(path, image):\n",
    "    print(image)\n",
    "    picture = path + r'\\{}'.format(image)\n",
    "    img = keras.preprocessing.image.load_img(picture, target_size=(150, 150))\n",
    "    img_tensor = keras.preprocessing.image.img_to_array(img)\n",
    "    img_tensor = np.expand_dims(img_tensor, axis=0)\n",
    "    img_tensor /= 255.\n",
    "    print('predict values:\\t', model.predict_proba(img_tensor))\n",
    "    print('predict classes:\\t', model.predict_classes(img_tensor))\n",
    "    if model.predict_classes(img_tensor)==[1]:\n",
    "        print('image contains Georgy\\n')\n",
    "    else:\n",
    "        print('Georgy not found\\n')"
   ]
  },
  {
   "cell_type": "code",
   "execution_count": 4,
   "metadata": {},
   "outputs": [
    {
     "name": "stdout",
     "output_type": "stream",
     "text": [
      "GEO-1.jpg\n",
      "predict values:\t [[0.29279545 0.7072045 ]]\n",
      "predict classes:\t [1]\n",
      "image contains Georgy\n",
      "\n",
      "GEO-10.jpg\n",
      "predict values:\t [[0.41159064 0.5884094 ]]\n",
      "predict classes:\t [1]\n",
      "image contains Georgy\n",
      "\n",
      "GEO-2.jpg\n",
      "predict values:\t [[0.02708756 0.9729125 ]]\n",
      "predict classes:\t [1]\n",
      "image contains Georgy\n",
      "\n",
      "GEO-3.jpg\n",
      "predict values:\t [[0.00110787 0.9988921 ]]\n",
      "predict classes:\t [1]\n",
      "image contains Georgy\n",
      "\n",
      "GEO-4.png\n",
      "predict values:\t [[0.93079454 0.06920551]]\n",
      "predict classes:\t [0]\n",
      "Georgy not found\n",
      "\n",
      "GEO-5.jpg\n",
      "predict values:\t [[0.18434757 0.8156525 ]]\n",
      "predict classes:\t [1]\n",
      "image contains Georgy\n",
      "\n",
      "GEO-6.jpg\n",
      "predict values:\t [[0.3261645 0.6738355]]\n",
      "predict classes:\t [1]\n",
      "image contains Georgy\n",
      "\n",
      "GEO-7.jpg\n",
      "predict values:\t [[0.43360528 0.5663947 ]]\n",
      "predict classes:\t [1]\n",
      "image contains Georgy\n",
      "\n",
      "GEO-8.jpg\n",
      "predict values:\t [[0.01277033 0.98722965]]\n",
      "predict classes:\t [1]\n",
      "image contains Georgy\n",
      "\n",
      "GEO-9.jpg\n",
      "predict values:\t [[0.1697294 0.8302706]]\n",
      "predict classes:\t [1]\n",
      "image contains Georgy\n",
      "\n",
      "NOT_G-1.jpg\n",
      "predict values:\t [[0.49347717 0.5065228 ]]\n",
      "predict classes:\t [1]\n",
      "image contains Georgy\n",
      "\n",
      "NOT_G-10.jpg\n",
      "predict values:\t [[0.6481141  0.35188589]]\n",
      "predict classes:\t [0]\n",
      "Georgy not found\n",
      "\n",
      "NOT_G-2.jpg\n",
      "predict values:\t [[0.16343965 0.83656037]]\n",
      "predict classes:\t [1]\n",
      "image contains Georgy\n",
      "\n",
      "NOT_G-3.jpeg\n",
      "predict values:\t [[0.4442994  0.55570066]]\n",
      "predict classes:\t [1]\n",
      "image contains Georgy\n",
      "\n",
      "NOT_G-4.jpg\n",
      "predict values:\t [[0.50964105 0.49035892]]\n",
      "predict classes:\t [0]\n",
      "Georgy not found\n",
      "\n",
      "NOT_G-5.jpg\n",
      "predict values:\t [[0.78786194 0.21213806]]\n",
      "predict classes:\t [0]\n",
      "Georgy not found\n",
      "\n",
      "NOT_G-6.jpg\n",
      "predict values:\t [[0.9689399  0.03106013]]\n",
      "predict classes:\t [0]\n",
      "Georgy not found\n",
      "\n",
      "NOT_G-7.jpg\n",
      "predict values:\t [[0.6891536  0.31084642]]\n",
      "predict classes:\t [0]\n",
      "Georgy not found\n",
      "\n",
      "NOT_G-8.jpg\n",
      "predict values:\t [[0.7359286 0.2640714]]\n",
      "predict classes:\t [0]\n",
      "Georgy not found\n",
      "\n",
      "NOT_G-9.jpg\n",
      "predict values:\t [[0.58367217 0.41632777]]\n",
      "predict classes:\t [0]\n",
      "Georgy not found\n",
      "\n"
     ]
    }
   ],
   "source": [
    "folder = r'./examples'\n",
    "\n",
    "for item in os.listdir(folder):\n",
    "    preds(folder, item)"
   ]
  }
 ],
 "metadata": {
  "kernelspec": {
   "display_name": "Python 3",
   "language": "python",
   "name": "python3"
  },
  "language_info": {
   "codemirror_mode": {
    "name": "ipython",
    "version": 3
   },
   "file_extension": ".py",
   "mimetype": "text/x-python",
   "name": "python",
   "nbconvert_exporter": "python",
   "pygments_lexer": "ipython3",
   "version": "3.7.4"
  }
 },
 "nbformat": 4,
 "nbformat_minor": 4
}
