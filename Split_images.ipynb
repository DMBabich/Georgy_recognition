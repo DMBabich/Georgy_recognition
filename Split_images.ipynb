{
 "cells": [
  {
   "cell_type": "code",
   "execution_count": 2,
   "metadata": {},
   "outputs": [],
   "source": [
    "import os\n",
    "import shutil"
   ]
  },
  {
   "cell_type": "markdown",
   "metadata": {},
   "source": [
    "## create train and test folder"
   ]
  },
  {
   "cell_type": "code",
   "execution_count": 11,
   "metadata": {},
   "outputs": [],
   "source": [
    "base_dir = r'./'\n",
    "\n",
    "#folder with georg img\n",
    "yes_dir = r'./yes'\n",
    "#folder without georg img\n",
    "no_dir = r'./no'\n",
    "\n",
    "#datasets\n",
    "#train\n",
    "train_dir = os.path.join(base_dir, 'train')\n",
    "os.mkdir(train_dir)\n",
    "#test\n",
    "test_dir = os.path.join(base_dir, 'test')\n",
    "os.mkdir(test_dir)\n",
    "\n",
    "#train catalog\n",
    "#with georgies\n",
    "train_yes_dir = os.path.join(train_dir, 'georgies')\n",
    "os.mkdir(train_yes_dir)\n",
    "#without georgies\n",
    "train_no_dir = os.path.join(train_dir, 'NONgeorg')\n",
    "os.mkdir(train_no_dir)\n",
    "\n",
    "#test catalog\n",
    "#with georgies\n",
    "test_yes_dir = os.path.join(test_dir, 'georgies')\n",
    "os.mkdir(test_yes_dir)\n",
    "#without georgies\n",
    "test_no_dir = os.path.join(test_dir, 'NONgeorg')\n",
    "os.mkdir(test_no_dir)"
   ]
  },
  {
   "cell_type": "markdown",
   "metadata": {},
   "source": [
    "## split all img to train and test folder"
   ]
  },
  {
   "cell_type": "code",
   "execution_count": 3,
   "metadata": {},
   "outputs": [
    {
     "name": "stdout",
     "output_type": "stream",
     "text": [
      "all yes: 2259\n",
      " all no: 3364\n"
     ]
    }
   ],
   "source": [
    "#how img total?\n",
    "yes = len(os.listdir(r'./yes'))\n",
    "no = len(os.listdir(r'./no'))\n",
    "print('all yes: {0}\\n all no: {1}'.format(yes, no))"
   ]
  },
  {
   "cell_type": "code",
   "execution_count": 4,
   "metadata": {},
   "outputs": [
    {
     "name": "stdout",
     "output_type": "stream",
     "text": [
      "yes 70%: 1581\n",
      " no 70%: 2354\n"
     ]
    }
   ],
   "source": [
    "#take 70% images to train and 30% to test\n",
    "yes_70 = int((yes/10)*7)\n",
    "no_70 = int((no/10)*7)\n",
    "print('yes 70%: {0}\\n no 70%: {1}'.format(yes_70, no_70))"
   ]
  },
  {
   "cell_type": "code",
   "execution_count": 14,
   "metadata": {},
   "outputs": [
    {
     "name": "stdout",
     "output_type": "stream",
     "text": [
      "70% train with Georgy copy\n",
      "30% test with Georgy copy\n",
      "70% train withOUT Georgy copy\n",
      "30% test withOUT Georgy copy\n"
     ]
    }
   ],
   "source": [
    "#train test split\n",
    "\n",
    "#copy 70% geo train img\n",
    "for fname in os.listdir(yes_dir)[:yes_70]:\n",
    "    src = os.path.join(yes_dir, fname)\n",
    "    dst = os.path.join(train_yes_dir, fname)\n",
    "    shutil.copyfile(src, dst)\n",
    "print('70% train images with Georgy copy')\n",
    "\n",
    "#copy next 30% geo img to test\n",
    "for fname in os.listdir(yes_dir)[yes_70:]:\n",
    "    src = os.path.join(yes_dir, fname)\n",
    "    dst = os.path.join(test_yes_dir, fname)\n",
    "    shutil.copyfile(src, dst)\n",
    "print('30% test images with Georgy copy')\n",
    "    \n",
    "#copy 70% non geo to train\n",
    "for fname in os.listdir(no_dir)[:no_70]:\n",
    "    src = os.path.join(no_dir, fname)\n",
    "    dst = os.path.join(train_no_dir, fname)\n",
    "    shutil.copyfile(src, dst)\n",
    "print('70% train images WITHOUT Georgy copy')\n",
    "\n",
    "#copy next 30% non geo to test\n",
    "for fname in os.listdir(no_dir)[no_70:]:\n",
    "    src = os.path.join(no_dir, fname)\n",
    "    dst = os.path.join(test_no_dir, fname)\n",
    "    shutil.copyfile(src, dst)\n",
    "print('30% test images WITHOUT Georgy copy')"
   ]
  },
  {
   "cell_type": "code",
   "execution_count": 15,
   "metadata": {},
   "outputs": [
    {
     "name": "stdout",
     "output_type": "stream",
     "text": [
      "3364  image with non geo\n",
      "all images without geo:  3364\n",
      "2259  image with geo\n",
      "all images with geo:  2259\n"
     ]
    }
   ],
   "source": [
    "#check corect split\n",
    "print(len(os.listdir(train_no_dir)) + len(os.listdir(test_no_dir)),' image with non geo')\n",
    "print('all images without geo: ', no)\n",
    "print(len(os.listdir(train_yes_dir)) + len(os.listdir(test_yes_dir)),' image with geo')\n",
    "print('all images with geo: ', yes)"
   ]
  }
 ],
 "metadata": {
  "kernelspec": {
   "display_name": "Python 3",
   "language": "python",
   "name": "python3"
  },
  "language_info": {
   "codemirror_mode": {
    "name": "ipython",
    "version": 3
   },
   "file_extension": ".py",
   "mimetype": "text/x-python",
   "name": "python",
   "nbconvert_exporter": "python",
   "pygments_lexer": "ipython3",
   "version": "3.7.4"
  }
 },
 "nbformat": 4,
 "nbformat_minor": 4
}
