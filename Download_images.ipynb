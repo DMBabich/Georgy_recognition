{
 "cells": [
  {
   "cell_type": "code",
   "execution_count": 1,
   "metadata": {},
   "outputs": [],
   "source": [
    "import requests\n",
    "import pandas\n",
    "import os"
   ]
  },
  {
   "cell_type": "markdown",
   "metadata": {},
   "source": [
    "#### Get img for Georgies"
   ]
  },
  {
   "cell_type": "markdown",
   "metadata": {},
   "source": [
    "make 2 folder for images"
   ]
  },
  {
   "cell_type": "code",
   "execution_count": 2,
   "metadata": {},
   "outputs": [],
   "source": [
    "#for img with georgy\n",
    "os.mkdir(r'./yes')\n",
    "#for img without georgy\n",
    "os.mkdir(r'./no')"
   ]
  },
  {
   "cell_type": "markdown",
   "metadata": {},
   "source": [
    "create data frame with data"
   ]
  },
  {
   "cell_type": "code",
   "execution_count": 3,
   "metadata": {},
   "outputs": [],
   "source": [
    "df_georg = pandas.read_csv('georges.csv')"
   ]
  },
  {
   "cell_type": "code",
   "execution_count": 4,
   "metadata": {},
   "outputs": [
    {
     "data": {
      "text/html": [
       "<div>\n",
       "<style scoped>\n",
       "    .dataframe tbody tr th:only-of-type {\n",
       "        vertical-align: middle;\n",
       "    }\n",
       "\n",
       "    .dataframe tbody tr th {\n",
       "        vertical-align: top;\n",
       "    }\n",
       "\n",
       "    .dataframe thead th {\n",
       "        text-align: right;\n",
       "    }\n",
       "</style>\n",
       "<table border=\"1\" class=\"dataframe\">\n",
       "  <thead>\n",
       "    <tr style=\"text-align: right;\">\n",
       "      <th></th>\n",
       "      <th>https://i.pinimg.com/736x/17/0d/5b/170d5b93d80d247be60f22ca1216bef7.jpg</th>\n",
       "    </tr>\n",
       "  </thead>\n",
       "  <tbody>\n",
       "    <tr>\n",
       "      <td>0</td>\n",
       "      <td>https://i.pinimg.com/736x/47/b9/9a/47b99a2ddcd...</td>\n",
       "    </tr>\n",
       "    <tr>\n",
       "      <td>1</td>\n",
       "      <td>https://i.pinimg.com/736x/90/e8/90/90e890f054b...</td>\n",
       "    </tr>\n",
       "    <tr>\n",
       "      <td>2</td>\n",
       "      <td>https://i.pinimg.com/736x/0a/71/6f/0a716f6f14e...</td>\n",
       "    </tr>\n",
       "    <tr>\n",
       "      <td>3</td>\n",
       "      <td>https://i.pinimg.com/736x/f1/95/be/f195bea0b78...</td>\n",
       "    </tr>\n",
       "    <tr>\n",
       "      <td>4</td>\n",
       "      <td>https://i.pinimg.com/736x/78/da/54/78da54b8fa9...</td>\n",
       "    </tr>\n",
       "    <tr>\n",
       "      <td>...</td>\n",
       "      <td>...</td>\n",
       "    </tr>\n",
       "    <tr>\n",
       "      <td>2675</td>\n",
       "      <td>https://i.pinimg.com/736x/ec/55/2f/ec552fa0c0a...</td>\n",
       "    </tr>\n",
       "    <tr>\n",
       "      <td>2676</td>\n",
       "      <td>https://i.pinimg.com/736x/a7/e2/e1/a7e2e10b8d6...</td>\n",
       "    </tr>\n",
       "    <tr>\n",
       "      <td>2677</td>\n",
       "      <td>https://i.pinimg.com/736x/e0/d5/c5/e0d5c5eeac0...</td>\n",
       "    </tr>\n",
       "    <tr>\n",
       "      <td>2678</td>\n",
       "      <td>https://i.pinimg.com/736x/77/4d/89/774d897ee7e...</td>\n",
       "    </tr>\n",
       "    <tr>\n",
       "      <td>2679</td>\n",
       "      <td>https://i.pinimg.com/736x/95/5d/5e/955d5edfa0a...</td>\n",
       "    </tr>\n",
       "  </tbody>\n",
       "</table>\n",
       "<p>2680 rows × 1 columns</p>\n",
       "</div>"
      ],
      "text/plain": [
       "     https://i.pinimg.com/736x/17/0d/5b/170d5b93d80d247be60f22ca1216bef7.jpg\n",
       "0     https://i.pinimg.com/736x/47/b9/9a/47b99a2ddcd...                     \n",
       "1     https://i.pinimg.com/736x/90/e8/90/90e890f054b...                     \n",
       "2     https://i.pinimg.com/736x/0a/71/6f/0a716f6f14e...                     \n",
       "3     https://i.pinimg.com/736x/f1/95/be/f195bea0b78...                     \n",
       "4     https://i.pinimg.com/736x/78/da/54/78da54b8fa9...                     \n",
       "...                                                 ...                     \n",
       "2675  https://i.pinimg.com/736x/ec/55/2f/ec552fa0c0a...                     \n",
       "2676  https://i.pinimg.com/736x/a7/e2/e1/a7e2e10b8d6...                     \n",
       "2677  https://i.pinimg.com/736x/e0/d5/c5/e0d5c5eeac0...                     \n",
       "2678  https://i.pinimg.com/736x/77/4d/89/774d897ee7e...                     \n",
       "2679  https://i.pinimg.com/736x/95/5d/5e/955d5edfa0a...                     \n",
       "\n",
       "[2680 rows x 1 columns]"
      ]
     },
     "execution_count": 4,
     "metadata": {},
     "output_type": "execute_result"
    }
   ],
   "source": [
    "df_georg"
   ]
  },
  {
   "cell_type": "markdown",
   "metadata": {},
   "source": [
    "create mass with url from DF"
   ]
  },
  {
   "cell_type": "code",
   "execution_count": 5,
   "metadata": {},
   "outputs": [],
   "source": [
    "mass = df_georg['https://i.pinimg.com/736x/17/0d/5b/170d5b93d80d247be60f22ca1216bef7.jpg']"
   ]
  },
  {
   "cell_type": "code",
   "execution_count": 6,
   "metadata": {},
   "outputs": [
    {
     "data": {
      "text/plain": [
       "0       https://i.pinimg.com/736x/47/b9/9a/47b99a2ddcd...\n",
       "1       https://i.pinimg.com/736x/90/e8/90/90e890f054b...\n",
       "2       https://i.pinimg.com/736x/0a/71/6f/0a716f6f14e...\n",
       "3       https://i.pinimg.com/736x/f1/95/be/f195bea0b78...\n",
       "4       https://i.pinimg.com/736x/78/da/54/78da54b8fa9...\n",
       "                              ...                        \n",
       "2675    https://i.pinimg.com/736x/ec/55/2f/ec552fa0c0a...\n",
       "2676    https://i.pinimg.com/736x/a7/e2/e1/a7e2e10b8d6...\n",
       "2677    https://i.pinimg.com/736x/e0/d5/c5/e0d5c5eeac0...\n",
       "2678    https://i.pinimg.com/736x/77/4d/89/774d897ee7e...\n",
       "2679    https://i.pinimg.com/736x/95/5d/5e/955d5edfa0a...\n",
       "Name: https://i.pinimg.com/736x/17/0d/5b/170d5b93d80d247be60f22ca1216bef7.jpg, Length: 2680, dtype: object"
      ]
     },
     "execution_count": 6,
     "metadata": {},
     "output_type": "execute_result"
    }
   ],
   "source": [
    "mass"
   ]
  },
  {
   "cell_type": "code",
   "execution_count": 7,
   "metadata": {},
   "outputs": [],
   "source": [
    "# get url from index\n",
    "first = df_georg.columns[0]"
   ]
  },
  {
   "cell_type": "markdown",
   "metadata": {},
   "source": [
    "save img from index"
   ]
  },
  {
   "cell_type": "code",
   "execution_count": 8,
   "metadata": {},
   "outputs": [],
   "source": [
    "call = requests.get(first)\n",
    "out = open(\"yes/0.jpg\", \"wb\")\n",
    "out.write(call.content)\n",
    "out.close()"
   ]
  },
  {
   "cell_type": "markdown",
   "metadata": {},
   "source": [
    "save all images from `mass`"
   ]
  },
  {
   "cell_type": "code",
   "execution_count": 9,
   "metadata": {},
   "outputs": [],
   "source": [
    "name = 1\n",
    "for url in mass:\n",
    "    call = requests.get(url)\n",
    "    out = open(\"yes/{}.jpg\".format(name), \"wb\")\n",
    "    out.write(call.content)\n",
    "    out.close()\n",
    "    name+=1"
   ]
  },
  {
   "cell_type": "markdown",
   "metadata": {},
   "source": [
    "#### Repeat for non-Georgies"
   ]
  },
  {
   "cell_type": "code",
   "execution_count": 10,
   "metadata": {},
   "outputs": [],
   "source": [
    "df_nongeo = pandas.read_csv('non_georges.csv')"
   ]
  },
  {
   "cell_type": "code",
   "execution_count": 11,
   "metadata": {},
   "outputs": [],
   "source": [
    "array = df_nongeo['https://i.pinimg.com/736x/fd/65/bb/fd65bb679b7975ab73867d62fba2e991.jpg']"
   ]
  },
  {
   "cell_type": "code",
   "execution_count": 12,
   "metadata": {},
   "outputs": [],
   "source": [
    "first = df_nongeo.columns[0]"
   ]
  },
  {
   "cell_type": "code",
   "execution_count": 13,
   "metadata": {},
   "outputs": [],
   "source": [
    "call = requests.get(first)\n",
    "out = open(\"no/0.jpg\", \"wb\")\n",
    "out.write(call.content)\n",
    "out.close()"
   ]
  },
  {
   "cell_type": "code",
   "execution_count": 14,
   "metadata": {},
   "outputs": [],
   "source": [
    "name = 1\n",
    "for url in array:\n",
    "    call = requests.get(url)\n",
    "    out = open(\"no/{}.jpg\".format(name), \"wb\")\n",
    "    out.write(call.content)\n",
    "    out.close()\n",
    "    name+=1"
   ]
  }
 ],
 "metadata": {
  "kernelspec": {
   "display_name": "Python 3",
   "language": "python",
   "name": "python3"
  },
  "language_info": {
   "codemirror_mode": {
    "name": "ipython",
    "version": 3
   },
   "file_extension": ".py",
   "mimetype": "text/x-python",
   "name": "python",
   "nbconvert_exporter": "python",
   "pygments_lexer": "ipython3",
   "version": "3.7.4"
  }
 },
 "nbformat": 4,
 "nbformat_minor": 4
}
